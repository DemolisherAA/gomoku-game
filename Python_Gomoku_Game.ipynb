{
 "cells": [
  {
   "cell_type": "markdown",
   "id": "354cac89",
   "metadata": {},
   "source": [
    "# This python script is developing a simple board game (Gomoku)"
   ]
  },
  {
   "cell_type": "markdown",
   "id": "c62d3b7b",
   "metadata": {},
   "source": [
    "**Name:** Abhishek Adhikary <br/>\n",
    "**Creation date:** 11/08/2023 <br/> \n",
    "**Last modified date:** 24/08/2023 <br/>"
   ]
  },
  {
   "cell_type": "code",
   "execution_count": 54,
   "id": "2c949fc4",
   "metadata": {},
   "outputs": [],
   "source": [
    "\"\"\"\n",
    "Name: Abhishek Adhikary\n",
    "Date: 24th Aug 2023\n",
    "Description: This python script is developing a simple board game (Gomoku).\n",
    "\"\"\"\n",
    "\n",
    "# Libraries to import (if any)\n",
    "import random"
   ]
  },
  {
   "cell_type": "markdown",
   "id": "d3112ad4",
   "metadata": {},
   "source": [
    "### 3.1 Game menu function"
   ]
  },
  {
   "cell_type": "code",
   "execution_count": 4,
   "id": "7fdc2353",
   "metadata": {},
   "outputs": [],
   "source": [
    " # Implement code for 3.1 here\n",
    "def game_menu():\n",
    "    \"\"\"\n",
    "    Displays game menu. \n",
    "    \n",
    "    This function displays the game menu.\n",
    "    \n",
    "    Parameters\n",
    "    ----------\n",
    "    None\n",
    "    \n",
    "    Returns\n",
    "    -------\n",
    "    None\n",
    "    \n",
    "    Examples\n",
    "    --------\n",
    "    >>> game_menu()\n",
    "    Game Menu:- \n",
    "    1. Start a Game:- \n",
    "    2. Print the Board:- \n",
    "    3. Place a Stone:- \n",
    "    4. Reset the Game:- \n",
    "    5. Exit......\n",
    "    \n",
    "    \"\"\"\n",
    "    print(\"Game Menu:- \")\n",
    "    print(\"1. Start a Game:- \")\n",
    "    print(\"2. Print the Board:- \")\n",
    "    print(\"3. Place a Stone:- \")\n",
    "    print(\"4. Reset the Game:- \")\n",
    "    print(\"5. Exit......\")\n",
    "    print(\"6. Printing number of stones:- \")"
   ]
  },
  {
   "cell_type": "code",
   "execution_count": 6,
   "id": "5baf9ad9",
   "metadata": {},
   "outputs": [],
   "source": [
    "# Test code for 3.1 here [The code in this cell should be commented]\n",
    "# game_menu()"
   ]
  },
  {
   "cell_type": "markdown",
   "id": "542881aa",
   "metadata": {},
   "source": [
    "### 3.2 Creating the Board"
   ]
  },
  {
   "cell_type": "code",
   "execution_count": 9,
   "id": "5c8cb479",
   "metadata": {},
   "outputs": [],
   "source": [
    " # Implement code for 3.2 here\n",
    "def create_board(size):\n",
    "    \"\"\"\n",
    "    Creates the Game Board.\n",
    "    \n",
    "    This function asks for the size creates a data structure which will be used to keep track\n",
    "    of the states of the boards.\n",
    "    \n",
    "    Parameters\n",
    "    ----------\n",
    "    size : int\n",
    "        size of the board.\n",
    "    \n",
    "    Returns\n",
    "    -------\n",
    "    list of lists\n",
    "        Board Updated with rows and coloumns of the size.\n",
    "        \n",
    "    Examples\n",
    "    --------\n",
    "    >>> empty_board = create_board(9)\n",
    "    [[' ', ' ', ' ', ' ', ' ', ' ', ' ', ' ', ' '], [' ', ' ', ' ', ' ', ' ', ' ', ' ', ' ', ' '], \n",
    "    [' ', ' ', ' ', ' ', ' ', ' ', ' ', ' ', ' '], [' ', ' ', ' ', ' ', ' ', ' ', ' ', ' ', ' '], \n",
    "    [' ', ' ', ' ', ' ', ' ', ' ', ' ', ' ', ' '], [' ', ' ', ' ', ' ', ' ', ' ', ' ', ' ', ' '], \n",
    "    [' ', ' ', ' ', ' ', ' ', ' ', ' ', ' ', ' '], [' ', ' ', ' ', ' ', ' ', ' ', ' ', ' ', ' '], \n",
    "    [' ', ' ', ' ', ' ', ' ', ' ', ' ', ' ', ' ']]\n",
    "    \n",
    "    \"\"\"\n",
    "    board = []\n",
    "    for row in range(size):\n",
    "        # Creating the rows of board.\n",
    "        rows = []\n",
    "        for col in range(size):\n",
    "            rows.append(\" \")\n",
    "            # Creating each element of the rows.\n",
    "        board.append(rows)\n",
    "        # Adding the rows to the board.\n",
    "    return board    "
   ]
  },
  {
   "cell_type": "code",
   "execution_count": 11,
   "id": "89914e6e",
   "metadata": {},
   "outputs": [],
   "source": [
    "# Test code for 3.2 here [The code in this cell should be commented]\n",
    "# empty_board = create_board(9)\n",
    "# print(empty_board)"
   ]
  },
  {
   "cell_type": "markdown",
   "id": "5a211de8",
   "metadata": {},
   "source": [
    "### 3.3 Is the target position occupied?"
   ]
  },
  {
   "cell_type": "code",
   "execution_count": 14,
   "id": "85c0b4ad",
   "metadata": {},
   "outputs": [],
   "source": [
    " # Implement code for 3.3 here\n",
    "def is_occupied(board, x, y):\n",
    "    \"\"\"\n",
    "    Checks for occupied positions on the Board.\n",
    "    \n",
    "    This function asks for the current state of the board, the row index and the coloumn index\n",
    "    and checks if that particular row index and coloumn index is occupied by a stone.\n",
    "\n",
    "    Parameters\n",
    "    ----------\n",
    "    board : list of lists\n",
    "        current state of the board.   \n",
    "    x : int\n",
    "        row index.       \n",
    "    y : int\n",
    "        coloumn index.\n",
    "    \n",
    "    Returns\n",
    "    -------\n",
    "    boolean\n",
    "        True if position is empty, else False.\n",
    "        \n",
    "    Examples\n",
    "    --------\n",
    "    >>> empty_board = create_board(9)\n",
    "    >>> occupied = is_occupied(empty_board, 0, 1)\n",
    "    False\n",
    "    \"\"\"    \n",
    "    if board[x][y] == \" \":\n",
    "        # Checking if target position is occupied or not.\n",
    "        return False\n",
    "    else:\n",
    "        return True"
   ]
  },
  {
   "cell_type": "code",
   "execution_count": 16,
   "id": "c636e647",
   "metadata": {},
   "outputs": [
    {
     "name": "stdout",
     "output_type": "stream",
     "text": [
      "False\n"
     ]
    }
   ],
   "source": [
    "def is_occupied2(board,x,y):\n",
    "    x = int(x)\n",
    "    y = ord(y.upper()) - ord('A')\n",
    "    if board[x][y] == \" \":\n",
    "        # Checking if target position is occupied or not.\n",
    "        return False\n",
    "    else:\n",
    "        return True\n",
    "    \n",
    "empty_board = create_board(9)\n",
    "occupied = is_occupied2(empty_board, 0, \"A\")\n",
    "print(occupied)\n",
    "    "
   ]
  },
  {
   "cell_type": "code",
   "execution_count": 18,
   "id": "a53db902",
   "metadata": {},
   "outputs": [],
   "source": [
    "# Test code for 3.3 here [The code in this cell should be commented]\n",
    "# empty_board = create_board(9)\n",
    "# occupied = is_occupied(empty_board, 0, 1)\n",
    "# print(occupied)"
   ]
  },
  {
   "cell_type": "markdown",
   "id": "83ef5d64",
   "metadata": {},
   "source": [
    "### 3.4 Placing a Stone at a Specific Intersection"
   ]
  },
  {
   "cell_type": "code",
   "execution_count": 21,
   "id": "8cae464e",
   "metadata": {},
   "outputs": [],
   "source": [
    " # Implement code for 3.4 here\n",
    "def place_on_board(board, stone, position):\n",
    "    \"\"\"\n",
    "    Places a stone on the board.\n",
    "    \n",
    "    This function asks for the current state of the board, stone value (either \"●\" or \"○\"), \n",
    "    position (the row index and the coloumn index) and places the stone.  \n",
    "\n",
    "    Parameters\n",
    "    ----------\n",
    "    board : list of lists\n",
    "        current state of the board.   \n",
    "    stone : string\n",
    "        a stone value (either \"●\" or \"○\").       \n",
    "    position : tuple of strings\n",
    "        row and coloumn index.\n",
    "    \n",
    "    Returns\n",
    "    -------\n",
    "    boolean\n",
    "        If the move is successfully performed, return True or if the move is impossible \n",
    "        (e.g., invalid or occupied position), return False.\n",
    "        \n",
    "    Examples\n",
    "    --------\n",
    "    >>> empty_board = create_board(9)\n",
    "    >>> stone = \"●\"\n",
    "    >>> stone_position = (1, 1) \n",
    "    >>> placing = place_on_board(empty_board, stone, stone_position)\n",
    "    True    \n",
    "    \"\"\"\n",
    "    (row, col) = position\n",
    "    # The rows and columns start from 0 and go up to size-1.\n",
    "    # len(board) gives no of rows and len(board[0]) gives no of coloumns.\n",
    "    if 0 <= row < len(board) and 0 <= col < len(board[0]):\n",
    "        \n",
    "        # Also checking if the position is occupied or not.\n",
    "        if not is_occupied(board, row, col):\n",
    "            board[row][col] = stone\n",
    "            return True\n",
    "        else:\n",
    "            return False"
   ]
  },
  {
   "cell_type": "code",
   "execution_count": 23,
   "id": "0b26fb7a",
   "metadata": {},
   "outputs": [],
   "source": [
    "# Test code for 3.4 here [The code in this cell should be commented]\n",
    "# empty_board = create_board(9)\n",
    "stone = \"●\"\n",
    "# stone_position = (1, 1) \n",
    "# placing = place_on_board(empty_board, stone, stone_position)\n",
    "# print(placing)"
   ]
  },
  {
   "cell_type": "markdown",
   "id": "08d45532",
   "metadata": {},
   "source": [
    "### 3.5 Printing the Board"
   ]
  },
  {
   "cell_type": "code",
   "execution_count": 26,
   "id": "96efddd0",
   "metadata": {},
   "outputs": [],
   "source": [
    " # Implement code for 3.5 here \n",
    "def print_board(board):\n",
    "    \"\"\"\n",
    "    Prints the current state of board.\n",
    "    \n",
    "    This function asks for the current state of the board and prints it to be able to visualise the board.\n",
    "    \n",
    "    Parameters\n",
    "    ----------\n",
    "    board : list of lists\n",
    "        current state of the board.\n",
    "    \n",
    "    Returns\n",
    "    -------\n",
    "    None\n",
    "        \n",
    "    Examples\n",
    "    --------\n",
    "    >>> gempty_board = create_board(9)\n",
    "    >>> print_board(empty_board)\n",
    "    A  B  C  D  E  F  G  H  I  \n",
    "     -- -- -- -- -- -- -- --   0\n",
    "    |  |  |  |  |  |  |  |  |  \n",
    "     -- -- -- -- -- -- -- --   1\n",
    "    |  |  |  |  |  |  |  |  |  \n",
    "     -- -- -- -- -- -- -- --   2\n",
    "    |  |  |  |  |  |  |  |  |  \n",
    "     -- -- -- -- -- -- -- --   3\n",
    "    |  |  |  |  |  |  |  |  |  \n",
    "     -- -- -- -- -- -- -- --   4\n",
    "    |  |  |  |  |  |  |  |  |  \n",
    "     -- -- -- -- -- -- -- --   5\n",
    "    |  |  |  |  |  |  |  |  |  \n",
    "     -- -- -- -- -- -- -- --   6\n",
    "    |  |  |  |  |  |  |  |  |  \n",
    "     -- -- -- -- -- -- -- --   7\n",
    "    |  |  |  |  |  |  |  |  |  \n",
    "     -- -- -- -- -- -- -- --   8\n",
    "    \"\"\"\n",
    "    for col in range(len(board)):\n",
    "        print(chr(col + ord(\"A\")), end = \"  \")\n",
    "        # Printing the coloumn indices on the top of the Board.\n",
    "    print() # Going to the next line.\n",
    "    \n",
    "    for row in range(len(board)):\n",
    "        print(\"--\".join(str(ele) for ele in board[row]) + \"  \" + str(row))\n",
    "        #Printing the elements followed by the coloumn sperators \"--\" and then the row indices to the right side of the Board.\n",
    "        if row < (len(board) - 1):\n",
    "            print(\"|  \" * len(board))\n",
    "            #Printing the row seperators \"|\"."
   ]
  },
  {
   "cell_type": "code",
   "execution_count": 28,
   "id": "4dfdf23d",
   "metadata": {},
   "outputs": [],
   "source": [
    "# Test code for 3.5 here [The code in this cell should be commented]\n",
    "# empty_board = create_board(9)\n",
    "# print_board(empty_board)"
   ]
  },
  {
   "cell_type": "markdown",
   "id": "cce46567",
   "metadata": {},
   "source": [
    "### 3.6 Check Available Moves"
   ]
  },
  {
   "cell_type": "code",
   "execution_count": 31,
   "id": "1421cbd6",
   "metadata": {},
   "outputs": [],
   "source": [
    " # Implement code for 3.6 here\n",
    "def check_available_moves(board):\n",
    "    \"\"\"\n",
    "    Finds out the available moves on the board.\n",
    "    \n",
    "    This function asks for the current state of the board and gets the available moves on the board.  \n",
    "\n",
    "    Parameters\n",
    "    ----------\n",
    "    board : list of lists\n",
    "        current state of the board.   \n",
    "    \n",
    "    Returns\n",
    "    -------\n",
    "    list of tuples\n",
    "        Available moves as a list of tuples where each tuple represents a position on the board.\n",
    "        \n",
    "    Examples\n",
    "    --------\n",
    "    >>> empty_board = create_board(9)\n",
    "    >>> moves = check_available_moves(empty_board)\n",
    "    [('0', 'A'), ('0', 'B'), ('0', 'C'), ('0', 'D'), ('0', 'E'), ('0', 'F'), ('0', 'G'), ('0', 'H'), ('0', 'I'), \n",
    "    ('1', 'A'), ('1', 'B'), ('1', 'C'), ('1', 'D'), ('1', 'E'), ('1', 'F'), ('1', 'G'), ('1', 'H'), ('1', 'I'), \n",
    "    ('2', 'A'), ('2', 'B'), ('2', 'C'), ('2', 'D'), ('2', 'E'), ('2', 'F'), ('2', 'G'), ('2', 'H'), ('2', 'I'), \n",
    "    ('3', 'A'), ('3', 'B'), ('3', 'C'), ('3', 'D'), ('3', 'E'), ('3', 'F'), ('3', 'G'), ('3', 'H'), ('3', 'I'), \n",
    "    ('4', 'A'), ('4', 'B'), ('4', 'C'), ('4', 'D'), ('4', 'E'), ('4', 'F'), ('4', 'G'), ('4', 'H'), ('4', 'I'), \n",
    "    ('5', 'A'), ('5', 'B'), ('5', 'C'), ('5', 'D'), ('5', 'E'), ('5', 'F'), ('5', 'G'), ('5', 'H'), ('5', 'I'), \n",
    "    ('6', 'A'), ('6', 'B'), ('6', 'C'), ('6', 'D'), ('6', 'E'), ('6', 'F'), ('6', 'G'), ('6', 'H'), ('6', 'I'), \n",
    "    ('7', 'A'), ('7', 'B'), ('7', 'C'), ('7', 'D'), ('7', 'E'), ('7', 'F'), ('7', 'G'), ('7', 'H'), ('7', 'I'), \n",
    "    ('8', 'A'), ('8', 'B'), ('8', 'C'), ('8', 'D'), ('8', 'E'), ('8', 'F'), ('8', 'G'), ('8', 'H'), ('8', 'I')]\n",
    "    \n",
    "    \"\"\"\n",
    "    available_moves = []\n",
    "    for row in range(len(board)):\n",
    "        for col in range(len(board[0])):\n",
    "            # len(board) gives no of rows and len(board[0]) gives no of coloumns.\n",
    "            \n",
    "            # Checking if the current position is available or not.            \n",
    "            if not is_occupied(board, row, col):\n",
    "                # Available moves as a list of tuples.\n",
    "                available_moves.append((str(row), chr(col + ord(\"A\")))) \n",
    "                # chr(col + ord(\"A\")) takes the column index  and adds the ASCII code of \"A\" to it.               \n",
    "                # When col is 0, the result is the letter \"A\". When col is 1, the result is \"B\", and so on.              \n",
    "    return available_moves"
   ]
  },
  {
   "cell_type": "code",
   "execution_count": 33,
   "id": "15f6ada2",
   "metadata": {},
   "outputs": [],
   "source": [
    "# Test code for 3.6 here [The code in this cell should be commented]\n",
    "# empty_board = create_board(9)\n",
    "# moves = check_available_moves(empty_board)\n",
    "# print (moves)"
   ]
  },
  {
   "cell_type": "markdown",
   "id": "1aa4e443",
   "metadata": {},
   "source": [
    "### 3.7 Check for the Winner"
   ]
  },
  {
   "cell_type": "code",
   "execution_count": 36,
   "id": "b180e465",
   "metadata": {},
   "outputs": [],
   "source": [
    " # Implement code for 3.7 here\n",
    "def check_for_winner(board):\n",
    "    \"\"\"\n",
    "    Identifies the winner of the Game.\n",
    "    \n",
    "    This function asks for the current state of the board and a winning condition is identied\n",
    "    when one of the players successfully forms a continuous line of five stones in their colour, \n",
    "    either horizontally, vertically or diagonally.\n",
    "    \n",
    "    Parameters\n",
    "    ----------\n",
    "    board : list of lists\n",
    "        current state of the board.   \n",
    "    \n",
    "    Returns\n",
    "    -------\n",
    "    string\n",
    "        If a continuous line of five stones in the same colour has been achieved, return the \n",
    "        corresponding stone (either \"●\" or \"○\") or if the board is full but none of the players achieves \n",
    "        a continuous line of five stones, return a string value of “Draw”. Finally, if none of the\n",
    "        players achieve the winning condition and there are still available moves on the board, return None.\n",
    "        \n",
    "    Examples\n",
    "    --------\n",
    "    >>> empty_board = create_board(9)\n",
    "    >>> check=check_for_winner(empty_board)\n",
    "    None\n",
    "    \"\"\"\n",
    "    # used i instead of row and j instead of col for convennience.\n",
    "    # Here i is row and j is col.\n",
    "    for i in range(len(board)): \n",
    "        for j in range(len(board[i])): \n",
    "            # Checking for all the 5 in a row conditions either horizontally, vertically or diagonally.\n",
    "            # Avoiding index out of bounds.\n",
    "            \n",
    "            # If 5 in a row in a row.\n",
    "            if j + 4 < len(board[i]):\n",
    "                if all(board[i][j+k] == \"●\" for k in range(5)):\n",
    "                    return \"●\"\n",
    "                elif all(board[i][j+k] == \"○\" for k in range(5)):\n",
    "                    return \"○\"\n",
    "            \n",
    "            # If 5 in a row in a coloumn.\n",
    "            if i + 4 < len(board):\n",
    "                if all(board[i+k][j] == \"●\" for k in range(5)):\n",
    "                    return \"●\"\n",
    "                elif all(board[i+k][j] == \"○\" for k in range(5)):\n",
    "                    return \"○\"            \n",
    "            \n",
    "            # If 5 in a row in the diagonal.\n",
    "            if i + 4 < len(board) and j + 4 < len(board[i]):\n",
    "                if all(board[i+k][j+k] == \"●\" for k in range(5)):\n",
    "                    return \"●\"\n",
    "                elif all(board[i+k][j+k] == \"○\" for k in range(5)):\n",
    "                    return \"○\"\n",
    "            \n",
    "            # If 5 in a row in the anti-diagonal.\n",
    "            if i + 4 < len(board) and j - 4 >= 0:\n",
    "                if all(board[i+k][j-k] == \"●\" for k in range(5)):\n",
    "                    return \"●\"\n",
    "                elif all(board[i+k][j-k] == \"○\" for k in range(5)):\n",
    "                    return \"○\"\n",
    "    \n",
    "    # Checking for the Draw condition.           \n",
    "    draw = True\n",
    "    for row in range(len(board)):\n",
    "        for col in range(len(board[0])):          \n",
    "            # Once a \" \" is found it means that there is an empty space, so a Draw is not possible here.\n",
    "            if not is_occupied(board, row, col):\n",
    "                draw = False\n",
    "                break\n",
    "    if draw:\n",
    "        return \"Draw\"\n",
    "    # None of the players achieve the winning condition and there still are available moves on the board.\n",
    "    else:\n",
    "        return None"
   ]
  },
  {
   "cell_type": "code",
   "execution_count": 38,
   "id": "eb8c7b4a",
   "metadata": {},
   "outputs": [],
   "source": [
    "# Test code for 3.7 here [The code in this cell should be commented]\n",
    "# empty_board = create_board(9)\n",
    "# check=check_for_winner(empty_board)\n",
    "# print(check)"
   ]
  },
  {
   "cell_type": "markdown",
   "id": "9fb9133d",
   "metadata": {},
   "source": [
    "### 3.8 Random Computer Player"
   ]
  },
  {
   "cell_type": "code",
   "execution_count": 41,
   "id": "be8be4d4",
   "metadata": {},
   "outputs": [],
   "source": [
    " # Implement code for 3.8 here\n",
    "def random_computer_player(board, player_move):\n",
    "    \"\"\"\n",
    "    Implements a computer opponent.\n",
    "    \n",
    "    This function asks for the current state of the board, player_move (the row index and the coloumn index) \n",
    "    and the computer implements its move as an opponent against the player.  \n",
    "\n",
    "    Parameters\n",
    "    ----------\n",
    "    board : list of lists\n",
    "        current state of the board.          \n",
    "    position : tuple of strings\n",
    "        row and coloumn index.\n",
    "    \n",
    "    Returns\n",
    "    -------\n",
    "    tuple of strings\n",
    "        Seeing the position of the player’s previous move as the centroid, the function finds\n",
    "        all the available valid positions within a 3 * 3 square and randomly selects one\n",
    "        of these positions, if all positions within the 3 * 3 square are invalid, the function randomly\n",
    "        selects from one of the available positions on the board\n",
    "        \n",
    "    Examples\n",
    "    --------\n",
    "    >>> empty_board = create_board(9)\n",
    "    >>> stone_position = (9, 9) \n",
    "    >>> random_computer_player(empty_board, stone_position)\n",
    "    ('8', 'I')   \n",
    "    \"\"\"\n",
    "    # Getting the position of the player's previous move.\n",
    "    (row, col) = player_move    \n",
    "    # Finding all the available valid positions within a 3 * 3 square of the players move.\n",
    "    available_positions = []\n",
    "    for i in range(-1, 2):\n",
    "        for j in range(-1, 2):\n",
    "            new_row = row + i\n",
    "            new_col = col + j\n",
    "            if 0 <= new_row < len(board) and 0 <= new_col < len(board[0]) and board[new_row][new_col] == \" \":\n",
    "                available_positions.append((new_row, new_col))\n",
    "    \n",
    "    # Removing the player's move from the avialable moves.\n",
    "    available_positions = [pos for pos in available_positions if pos != player_move]\n",
    "    \n",
    "    # Within the 3x3 square, randomly selecting one (if available).\n",
    "    if available_positions:\n",
    "        selected_position = random.choice(available_positions)\n",
    "        return str(selected_position[0]), chr(selected_position[1] + ord('A'))        \n",
    "    \n",
    "    #Finding all the available positions in the board.\n",
    "    all_available_positions = check_available_moves(empty_board)    \n",
    "    \n",
    "    # Randomly selecting an available position on the board.\n",
    "    if all_available_positions:\n",
    "        selected_position = random.choice(all_available_positions)\n",
    "        return str(selected_position[0]), chr(selected_position[1] + ord('A'))"
   ]
  },
  {
   "cell_type": "code",
   "execution_count": 43,
   "id": "49f65cd1",
   "metadata": {},
   "outputs": [],
   "source": [
    "# Test code for 3.8 here [The code in this cell should be commented]\n",
    "# empty_board = create_board(9)\n",
    "# stone_position = (9, 9) \n",
    "# print(random_computer_player(empty_board, stone_position))"
   ]
  },
  {
   "cell_type": "markdown",
   "id": "2972eb0f",
   "metadata": {},
   "source": [
    "### 3.9 Play Game"
   ]
  },
  {
   "cell_type": "code",
   "execution_count": 46,
   "id": "afc2655a",
   "metadata": {},
   "outputs": [],
   "source": [
    " # Implement code for 3.9 here\n",
    "def play_game():\n",
    "    \"\"\"\n",
    "    Main function of the Gomoku Game.\n",
    "    \n",
    "    This function performs the operation based on the selection from the menu \n",
    "    in the game menu.\n",
    "\n",
    "    Parameters\n",
    "    ----------\n",
    "    None\n",
    "    \n",
    "    Returns\n",
    "    -------\n",
    "    None\n",
    "\n",
    "    \"\"\"\n",
    "    # Initializing the variables\n",
    "    board = []\n",
    "    mode = \"\"    \n",
    "    while True:\n",
    "        game_menu()\n",
    "        option = input(\"Enter your choice from (1 to 5):- \")        \n",
    "        \n",
    "        if option == \"1\":\n",
    "            \n",
    "            if board :\n",
    "                # If the user input option “1” while a game is in progress\n",
    "                print(\"Game is in progress. What do you want to do?:- (Choose option 1 or 2)\")\n",
    "                print(\"1. Reset and restart the game\")\n",
    "                print(\"2. Complete the current game\")\n",
    "                reset_option = input(\"Enter your choice from (1 and 2):- \")\n",
    "                \n",
    "                if reset_option == \"1\":\n",
    "                    board = []\n",
    "                    mode = \"\"\n",
    "                    player_turn = \"\"\n",
    "                    print(\"Game is reset......\")\n",
    "                \n",
    "                elif reset_option == \"2\":\n",
    "                    print(\"Current Game is continued!\")\n",
    "                    continue\n",
    "            \n",
    "            else:\n",
    "                # Asking for a board size value from the user.\n",
    "                board_size = input(\"Enter the board size (9, 13, or 15):- \")\n",
    "                if board_size.isdigit():\n",
    "                    board_size = int(board_size)\n",
    "                    if board_size in [9, 13, 15]:\n",
    "                        # Asking for the mode either Player vs. Player or Player vs. Computer.\n",
    "                        mode_input = input(\"Enter game mode (Player vs. Player or Player vs. Computer):- \").lower()                    \n",
    "                        if mode_input == \"player vs. player\":\n",
    "                            mode = \"player vs. player\"\n",
    "                        elif mode_input == \"player vs. computer\":\n",
    "                            mode = \"player vs. computer\"\n",
    "                        else:\n",
    "                            print(\"Invalid mode. Enter game mode (Player vs. Player or player vs. player)\")\n",
    "                            continue\n",
    "                    else:\n",
    "                        print(\"Invalid board size. Please choose in the sizes of 9, 13, or 15.\")\n",
    "                        continue\n",
    "                    # The user should open the game with the black stone (i.e., \"●\").\n",
    "                    player_turn = \"●\"                \n",
    "                    # Creating the board with the size provided by the Player.\n",
    "                    board = create_board(board_size)\n",
    "                \n",
    "        elif option == \"2\":\n",
    "            # If board is not created, Print the board will not work.\n",
    "            if not board:\n",
    "                print(\"Start a Game First! (Option 1)\")\n",
    "            print_board(board)\n",
    "            \n",
    "        elif option == \"3\":\n",
    "            \n",
    "            if not board:\n",
    "                print(\"Start a Game First! (Option 1)\")\n",
    "                continue\n",
    "            \n",
    "            # Player will know if it is the choice of Player 1 or Player 2.            \n",
    "            if player_turn == \"●\":\n",
    "                print(\"Player 1, it's your choice.\")\n",
    "            elif player_turn == \"○\":\n",
    "                print(\"Player 2, it's your choice.\")\n",
    "            \n",
    "            # Asking the Player to place a stone\n",
    "            (row_str, col_str) = input(\"Place a stone at a position (e.g., 2 F): \").split()\n",
    "            row = int(row_str)\n",
    "            col = ord(col_str.upper()) - ord('A')\n",
    "            \n",
    "            # Checking if the position is not invaild or occupied.\n",
    "            if not place_on_board(board,stone,(row,col)):\n",
    "                print(\"Position is Invalid or Occupied!\")\n",
    "                continue\n",
    "            else:\n",
    "                board[row][col] = player_turn\n",
    "            \n",
    "            # Whenever the player successfully places a stone on the board, checking if any of the players has achieved one of the winning conditions.\n",
    "            winner = check_for_winner(board)\n",
    "            \n",
    "            if winner:\n",
    "                # Checking if the Winner if winner is Player 1 or Player 2 for Player vs. Player mode.\n",
    "                if winner == \"●\":\n",
    "                    winner_name = \"Player 1\"\n",
    "                elif winner == \"○\":\n",
    "                    winner_name = \"Player 2\" if mode == \"player vs. player\" else \"Computer\"\n",
    "                print(winner_name, \"wins!\")\n",
    "                print_board(board)\n",
    "                \n",
    "                # Checking for the Draw\n",
    "                if winner == \"Draw\":\n",
    "                    print(\"It is a Draw!\")\n",
    "                    print_board(board)\n",
    "                \n",
    "                # Resetting the board after a Win or a Draw so that a new game could be started.\n",
    "                board = []\n",
    "                mode = \"\"\n",
    "                player_turn = \"\"\n",
    "                continue\n",
    "            \n",
    "            # The user should open the game with the black stone (i.e., \"●\"). \n",
    "            # Keeping track of the turns to determine the colour of stones to be placed next.\n",
    "            if mode == \"player vs. player\":\n",
    "                if player_turn == \"●\":\n",
    "                    player_turn = \"○\"\n",
    "                else:\n",
    "                    player_turn = \"●\"\n",
    "            \n",
    "            # The user should open the game with the black stone (i.e., \"●\") and for Player vs. Computer only one player is needed.\n",
    "            elif mode == \"player vs. computer\":\n",
    "                player_turn = \"●\"\n",
    "            \n",
    "            # Checking for the Player vs. Computer Mode\n",
    "            if mode == \"player vs. computer\":\n",
    "                # Getting the move for the Computer\n",
    "                computer_move = random_computer_player(board, (row, col))\n",
    "                if computer_move:\n",
    "                    computer_row, computer_col = int(computer_move[0]), ord(computer_move[1]) - ord('A')\n",
    "                    # Computer should play the game with the white stone (i.e., \"○\")\n",
    "                    board[computer_row][computer_col] = \"○\"                    \n",
    "                    \n",
    "                    winner = check_for_winner(board)\n",
    "                    \n",
    "                    if winner:\n",
    "                        # Checking if the Winner if winner is Player 1 or Computer for Player vs. Computer mode.\n",
    "                        if winner == \"●\":\n",
    "                            winner_name = \"Player 1\"\n",
    "                        elif winner == \"○\":\n",
    "                            winner_name = \"Computer\" if mode == \"player vs. computer\" else \"Player 2\"\n",
    "                        print(winner_name, \"wins!\")\n",
    "                        print_board(board)\n",
    "                        \n",
    "                        # Checking for the Draw\n",
    "                        if winner == \"Draw\":\n",
    "                            print(\"It is a Draw!\")\n",
    "                            print_board(board)\n",
    "                        \n",
    "                        # Resetting the board after a Win or a Draw so that a new game could be started.\n",
    "                        board = []\n",
    "                        mode = \"\"\n",
    "                        player_turn = \"\"\n",
    "                        continue            \n",
    "        \n",
    "        elif option == \"4\":\n",
    "            # Resetting the board\n",
    "            board = []\n",
    "            mode = \"\"\n",
    "            player_turn = \"\"\n",
    "            print(\"Game is reset......\")\n",
    "        \n",
    "        elif option == \"5\":\n",
    "            print(\"Exiting the program......\")\n",
    "            print(\"Thank you for Playing! :)\")\n",
    "            # Only situation when the game terminates.\n",
    "            break\n",
    "            \n",
    "        elif option == \"6\":\n",
    "            counter=0\n",
    "            if check_available_moves(board):\n",
    "                counter+=1\n",
    "            print(counter)\n",
    "                \n",
    "        \n",
    "        else:\n",
    "            print(\"Invalid option. Please choose a valid option.\")"
   ]
  },
  {
   "cell_type": "code",
   "execution_count": 48,
   "id": "78c984c5",
   "metadata": {},
   "outputs": [],
   "source": [
    "# Test code for 3.9 here [The code in this cell should be commented]\n",
    "# play_game()"
   ]
  },
  {
   "cell_type": "code",
   "execution_count": 50,
   "id": "ba78e36e",
   "metadata": {},
   "outputs": [
    {
     "name": "stdout",
     "output_type": "stream",
     "text": [
      "Game Menu:- \n",
      "1. Start a Game:- \n",
      "2. Print the Board:- \n",
      "3. Place a Stone:- \n",
      "4. Reset the Game:- \n",
      "5. Exit......\n",
      "6. Printing number of stones:- \n"
     ]
    },
    {
     "name": "stdin",
     "output_type": "stream",
     "text": [
      "Enter your choice from (1 to 5):-  1\n",
      "Enter the board size (9, 13, or 15):-  9\n",
      "Enter game mode (Player vs. Player or Player vs. Computer):-  Player vs. Player\n"
     ]
    },
    {
     "name": "stdout",
     "output_type": "stream",
     "text": [
      "Game Menu:- \n",
      "1. Start a Game:- \n",
      "2. Print the Board:- \n",
      "3. Place a Stone:- \n",
      "4. Reset the Game:- \n",
      "5. Exit......\n",
      "6. Printing number of stones:- \n"
     ]
    },
    {
     "name": "stdin",
     "output_type": "stream",
     "text": [
      "Enter your choice from (1 to 5):-  3\n"
     ]
    },
    {
     "name": "stdout",
     "output_type": "stream",
     "text": [
      "Player 1, it's your choice.\n"
     ]
    },
    {
     "name": "stdin",
     "output_type": "stream",
     "text": [
      "Place a stone at a position (e.g., 2 F):  3 G\n"
     ]
    },
    {
     "name": "stdout",
     "output_type": "stream",
     "text": [
      "Game Menu:- \n",
      "1. Start a Game:- \n",
      "2. Print the Board:- \n",
      "3. Place a Stone:- \n",
      "4. Reset the Game:- \n",
      "5. Exit......\n",
      "6. Printing number of stones:- \n"
     ]
    },
    {
     "name": "stdin",
     "output_type": "stream",
     "text": [
      "Enter your choice from (1 to 5):-  2\n"
     ]
    },
    {
     "name": "stdout",
     "output_type": "stream",
     "text": [
      "A  B  C  D  E  F  G  H  I  \n",
      " -- -- -- -- -- -- -- --   0\n",
      "|  |  |  |  |  |  |  |  |  \n",
      " -- -- -- -- -- -- -- --   1\n",
      "|  |  |  |  |  |  |  |  |  \n",
      " -- -- -- -- -- -- -- --   2\n",
      "|  |  |  |  |  |  |  |  |  \n",
      " -- -- -- -- -- --●-- --   3\n",
      "|  |  |  |  |  |  |  |  |  \n",
      " -- -- -- -- -- -- -- --   4\n",
      "|  |  |  |  |  |  |  |  |  \n",
      " -- -- -- -- -- -- -- --   5\n",
      "|  |  |  |  |  |  |  |  |  \n",
      " -- -- -- -- -- -- -- --   6\n",
      "|  |  |  |  |  |  |  |  |  \n",
      " -- -- -- -- -- -- -- --   7\n",
      "|  |  |  |  |  |  |  |  |  \n",
      " -- -- -- -- -- -- -- --   8\n",
      "Game Menu:- \n",
      "1. Start a Game:- \n",
      "2. Print the Board:- \n",
      "3. Place a Stone:- \n",
      "4. Reset the Game:- \n",
      "5. Exit......\n",
      "6. Printing number of stones:- \n"
     ]
    },
    {
     "name": "stdin",
     "output_type": "stream",
     "text": [
      "Enter your choice from (1 to 5):-  3\n"
     ]
    },
    {
     "name": "stdout",
     "output_type": "stream",
     "text": [
      "Player 2, it's your choice.\n"
     ]
    },
    {
     "name": "stdin",
     "output_type": "stream",
     "text": [
      "Place a stone at a position (e.g., 2 F):  6 G\n"
     ]
    },
    {
     "name": "stdout",
     "output_type": "stream",
     "text": [
      "Game Menu:- \n",
      "1. Start a Game:- \n",
      "2. Print the Board:- \n",
      "3. Place a Stone:- \n",
      "4. Reset the Game:- \n",
      "5. Exit......\n",
      "6. Printing number of stones:- \n"
     ]
    },
    {
     "name": "stdin",
     "output_type": "stream",
     "text": [
      "Enter your choice from (1 to 5):-  1\n"
     ]
    },
    {
     "name": "stdout",
     "output_type": "stream",
     "text": [
      "Game is in progress. What do you want to do?:- (Choose option 1 or 2)\n",
      "1. Reset and restart the game\n",
      "2. Complete the current game\n"
     ]
    },
    {
     "name": "stdin",
     "output_type": "stream",
     "text": [
      "Enter your choice from (1 and 2):-  2\n"
     ]
    },
    {
     "name": "stdout",
     "output_type": "stream",
     "text": [
      "Current Game is continued!\n",
      "Game Menu:- \n",
      "1. Start a Game:- \n",
      "2. Print the Board:- \n",
      "3. Place a Stone:- \n",
      "4. Reset the Game:- \n",
      "5. Exit......\n",
      "6. Printing number of stones:- \n"
     ]
    },
    {
     "name": "stdin",
     "output_type": "stream",
     "text": [
      "Enter your choice from (1 to 5):-  5\n"
     ]
    },
    {
     "name": "stdout",
     "output_type": "stream",
     "text": [
      "Exiting the program......\n",
      "Thank you for Playing! :)\n"
     ]
    }
   ],
   "source": [
    "#Run the game (Your tutor will run this cell to start playing the game)\n",
    "#Starting the game by runnng play_game()\n",
    "play_game()"
   ]
  },
  {
   "cell_type": "markdown",
   "id": "ce3460c3",
   "metadata": {},
   "source": [
    "## Documentation of Optimizations\n",
    "\n",
    "\n",
    "\n",
    "1. I have added a print statement where the Player will know if it is the choice of Player 1 or Player 2.\n",
    "2. If board is not created, Print the board will not work. So, I have added a message for that part.\n",
    "3. Similarly for place a stone, I have done the same.\n",
    "4. I have reset the Board after a Win or a Draw so that a new game could be started after that.\n",
    "5. I have printed the Board after a win condition or a draw condition is achieved for better visualisation\n",
    "6. On the whole, I have Tried to keep an interactive and intuitive Game Menu options"
   ]
  }
 ],
 "metadata": {
  "kernelspec": {
   "display_name": "Python 3 (ipykernel)",
   "language": "python",
   "name": "python3"
  },
  "language_info": {
   "codemirror_mode": {
    "name": "ipython",
    "version": 3
   },
   "file_extension": ".py",
   "mimetype": "text/x-python",
   "name": "python",
   "nbconvert_exporter": "python",
   "pygments_lexer": "ipython3",
   "version": "3.12.2"
  }
 },
 "nbformat": 4,
 "nbformat_minor": 5
}
